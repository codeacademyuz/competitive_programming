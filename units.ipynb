{
 "cells": [
  {
   "attachments": {},
   "cell_type": "markdown",
   "metadata": {},
   "source": [
    "# Units of measurement \n",
    "- Length\n",
    "- Mass\n",
    "- Time\n",
    "- Temperature"
   ]
  },
  {
   "attachments": {},
   "cell_type": "markdown",
   "metadata": {},
   "source": [
    "## Units of Length\n",
    "- Millimeter\n",
    "- Centimeter\n",
    "- Meter\n",
    "- Kilometer"
   ]
  },
  {
   "attachments": {},
   "cell_type": "markdown",
   "metadata": {},
   "source": [
    "Your given X integer value in millimeters, you need to convert into centimeters.\n",
    "\n",
    "Example 1:\n",
    "- Input: 1000\n",
    "- Output: 100"
   ]
  },
  {
   "cell_type": "code",
   "execution_count": null,
   "metadata": {},
   "outputs": [],
   "source": [
    "def mm_to_cm(mm):\n",
    "    \"\"\"\n",
    "    Converts millimeters to centimeters\n",
    "    Args:\n",
    "        mm: millimeters\n",
    "    Returns:\n",
    "        centimeters\n",
    "    \"\"\"\n",
    "    \n",
    "    return"
   ]
  },
  {
   "cell_type": "code",
   "execution_count": 1,
   "metadata": {},
   "outputs": [],
   "source": [
    "def cm_to_mm(cm):\n",
    "    \"\"\"\n",
    "    Converts centimeters to millimeters\n",
    "    Args:\n",
    "        cm: centimeters\n",
    "    Returns:\n",
    "        millimeters\n",
    "    \"\"\"\n",
    "    \n",
    "    return "
   ]
  },
  {
   "cell_type": "code",
   "execution_count": null,
   "metadata": {},
   "outputs": [],
   "source": []
  }
 ],
 "metadata": {
  "kernelspec": {
   "display_name": "Python 3",
   "language": "python",
   "name": "python3"
  },
  "language_info": {
   "codemirror_mode": {
    "name": "ipython",
    "version": 3
   },
   "file_extension": ".py",
   "mimetype": "text/x-python",
   "name": "python",
   "nbconvert_exporter": "python",
   "pygments_lexer": "ipython3",
   "version": "3.9.6"
  },
  "orig_nbformat": 4
 },
 "nbformat": 4,
 "nbformat_minor": 2
}
