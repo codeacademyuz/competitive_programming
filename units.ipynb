{
 "cells": [
  {
   "attachments": {},
   "cell_type": "markdown",
   "metadata": {},
   "source": [
    "# Units of measurement \n",
    "- Length\n",
    "- Mass\n",
    "- Time\n",
    "- Temperature"
   ]
  },
  {
   "attachments": {},
   "cell_type": "markdown",
   "metadata": {},
   "source": [
    "## Units of Length\n",
    "- Millimeter\n",
    "- Centimeter\n",
    "- Meter\n",
    "- Kilometer"
   ]
  },
  {
   "attachments": {},
   "cell_type": "markdown",
   "metadata": {},
   "source": [
    "Your given X integer value in millimeters, you need to convert into centimeters.\n",
    "\n",
    "Example 1:\n",
    "- Input: 1000\n",
    "- Output: 100"
   ]
  },
  {
   "cell_type": "code",
   "execution_count": null,
   "metadata": {},
   "outputs": [],
   "source": [
    "def mm_to_cm(mm):\n",
    "    \"\"\"\n",
    "    Converts millimeters to centimeters\n",
    "    Args:\n",
    "        mm: millimeters\n",
    "    Returns:\n",
    "        centimeters\n",
    "    \"\"\"\n",
    "    \n",
    "    return"
   ]
  }
 ],
 "metadata": {
  "language_info": {
   "name": "python"
  },
  "orig_nbformat": 4
 },
 "nbformat": 4,
 "nbformat_minor": 2
}
