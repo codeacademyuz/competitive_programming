{
 "cells": [
  {
   "attachments": {},
   "cell_type": "markdown",
   "metadata": {},
   "source": [
    "1. A two-digit integer is given. Find the sum of its digits.\n",
    "2. A two-digit integer is given. Find the ten's digit of this integer.\n",
    "3. A two-digit integer is given. Find the one's digit of this integer.\n",
    "4. A three-digit integer is given. Find the hundreds digit of this integer.\n",
    "5. A three-digit integer is given. Find the ten's digit of this integer.\n",
    "6. A three-digit integer is given. Find the sum of its digits.\n",
    "7. A three-digit integer is given. Find the product of its digits.\n",
    "8. A three-digit integer is given. Find the sum of its first two digits.\n",
    "\n",
    "9. A three-digit integer is given. Remove the second digit (tens digit) of this integer.\n",
    "\n",
    "10. A three-digit integer is given. Return the reversed number.\n"
   ]
  },
  {
   "attachments": {},
   "cell_type": "markdown",
   "metadata": {},
   "source": [
    "## Digits and numbers 1\n",
    "\n",
    "1. A two-digit integer is given. Output its first digit (the number of tens).\n",
    "\n",
    "Example 1:\n",
    "```\n",
    "input: 42\n",
    "output: 4\n",
    "```\n",
    "\n",
    "Example 2:\n",
    "```\n",
    "input: 12\n",
    "output: 1\n",
    "```"
   ]
  },
  {
   "cell_type": "code",
   "execution_count": null,
   "metadata": {},
   "outputs": [],
   "source": [
    "def main1(n):\n",
    "    \"\"\"\n",
    "    A two-digit integer is given. \n",
    "    Output its first digit (the number of tens).\n",
    "\n",
    "    args:\n",
    "        n: int number\n",
    "    returns:\n",
    "        int number\n",
    "    \"\"\""
   ]
  },
  {
   "attachments": {},
   "cell_type": "markdown",
   "metadata": {},
   "source": [
    "## Digits and numbers 2\n",
    "A two-digit integer is given. Find the one's digit of this integer.\n",
    "\n",
    "Example 1:\n",
    "```\n",
    "input: 42\n",
    "output: 2\n",
    "```\n",
    "\n",
    "Example 2:\n",
    "```\n",
    "input: 12\n",
    "output: 2\n",
    "```"
   ]
  },
  {
   "cell_type": "code",
   "execution_count": null,
   "metadata": {},
   "outputs": [],
   "source": [
    "def main2(n):\n",
    "    \"\"\"\n",
    "    A two-digit integer is given.\n",
    "    Find the one's digit of the number.\n",
    "    \n",
    "    args:\n",
    "        n: int number\n",
    "    returns:\n",
    "        int number\n",
    "    \"\"\""
   ]
  },
  {
   "attachments": {},
   "cell_type": "markdown",
   "metadata": {},
   "source": [
    "## Digits and numbers 3\n",
    "A two-digit integer is given. Find the sum of its digits.\n",
    "\n",
    "Example 1:\n",
    "```\n",
    "input: 42\n",
    "output: 6\n",
    "```\n",
    "\n",
    "Example 2:\n",
    "```\n",
    "input: 12\n",
    "output: 3\n",
    "```\n"
   ]
  },
  {
   "cell_type": "code",
   "execution_count": 1,
   "metadata": {},
   "outputs": [],
   "source": [
    "def main3(n):\n",
    "    \"\"\"\n",
    "    A two-digit integer is given.\n",
    "    Find the sum of its digits.\n",
    "\n",
    "    args:\n",
    "        n: int number\n",
    "    returns:\n",
    "        int number\n",
    "    \"\"\"\n"
   ]
  },
  {
   "attachments": {},
   "cell_type": "markdown",
   "metadata": {},
   "source": [
    "## Digits and numbers 4\n",
    "A three-digit integer is given. Find the hundreds digit of this integer.\n",
    "\n",
    "Example 1:\n",
    "```\n",
    "input: 123\n",
    "output: 1\n",
    "```\n",
    "\n",
    "Example 2:\n",
    "```\n",
    "input: 723\n",
    "output: 7\n",
    "```\n"
   ]
  },
  {
   "cell_type": "code",
   "execution_count": 2,
   "metadata": {},
   "outputs": [],
   "source": [
    "def main4(n):\n",
    "    \"\"\"\n",
    "    A three-digit integer is given.\n",
    "    Find the hundreds digit of the given integer.\n",
    "    \n",
    "    args:\n",
    "        n: int number\n",
    "    returns:\n",
    "        int number\n",
    "    \"\"\""
   ]
  },
  {
   "attachments": {},
   "cell_type": "markdown",
   "metadata": {},
   "source": [
    "## Digits and numbers 5\n",
    " A three-digit integer is given. Find the ten's digit of this integer.\n",
    "\n",
    "Example 1:\n",
    "```\n",
    "input: 123\n",
    "output: 2\n",
    "```\n",
    "\n",
    "Example 2:\n",
    "```\n",
    "input: 723\n",
    "output: 2\n",
    "```"
   ]
  },
  {
   "cell_type": "code",
   "execution_count": null,
   "metadata": {},
   "outputs": [],
   "source": [
    "def main5(n):\n",
    "    \"\"\"\n",
    "     A three-digit integer is given.\n",
    "     Find the ten's digit of this integer.\n",
    "\n",
    "    args:\n",
    "        n: int number\n",
    "    returns:\n",
    "        int number\n",
    "    \"\"\"\n",
    "    "
   ]
  },
  {
   "attachments": {},
   "cell_type": "markdown",
   "metadata": {},
   "source": [
    "## Digits and numbers 6\n",
    "A three-digit integer is given. Find the sum of its digits.\n",
    "\n",
    "Example 1:\n",
    "```\n",
    "input: 381\n",
    "output: 12\n",
    "```\n",
    "\n",
    "Example 2:\n",
    "```\n",
    "input: 123\n",
    "output: 6\n",
    "```"
   ]
  },
  {
   "cell_type": "code",
   "execution_count": null,
   "metadata": {},
   "outputs": [],
   "source": [
    "def main6(n):\n",
    "    \"\"\"\n",
    "    A three-digit integer is given.\n",
    "    Find the sum of its digits.\n",
    "\n",
    "    args:\n",
    "        n: int number\n",
    "    returns:\n",
    "        int number\n",
    "    \"\"\""
   ]
  },
  {
   "attachments": {},
   "cell_type": "markdown",
   "metadata": {},
   "source": [
    "## Digits and numbers 7\n",
    "A three-digit integer is given. Find the product of its digits.\n",
    "\n",
    "Example 1:\n",
    "```\n",
    "input: 381\n",
    "output: 24\n",
    "```\n",
    "\n",
    "Example 2:\n",
    "```\n",
    "input: 123\n",
    "output: 6\n",
    "```"
   ]
  },
  {
   "cell_type": "code",
   "execution_count": 3,
   "metadata": {},
   "outputs": [],
   "source": [
    "def main7(n):\n",
    "    \"\"\"\n",
    "    A three-digit integer is given.\n",
    "    Find the product of its digits.\n",
    "\n",
    "    args:\n",
    "        n: int number\n",
    "    returns:\n",
    "        int number\n",
    "    \"\"\""
   ]
  }
 ],
 "metadata": {
  "kernelspec": {
   "display_name": "Python 3",
   "language": "python",
   "name": "python3"
  },
  "language_info": {
   "codemirror_mode": {
    "name": "ipython",
    "version": 3
   },
   "file_extension": ".py",
   "mimetype": "text/x-python",
   "name": "python",
   "nbconvert_exporter": "python",
   "pygments_lexer": "ipython3",
   "version": "3.9.6"
  },
  "orig_nbformat": 4
 },
 "nbformat": 4,
 "nbformat_minor": 2
}
