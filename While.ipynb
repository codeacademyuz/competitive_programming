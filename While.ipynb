{
 "cells": [
  {
   "attachments": {},
   "cell_type": "markdown",
   "metadata": {},
   "source": [
    "# Assignment While loop in Python"
   ]
  },
  {
   "attachments": {},
   "cell_type": "markdown",
   "metadata": {},
   "source": [
    "## Introduction to While loop in Python\n",
    "\n",
    "The while loop in Python is used to iterate over a block of code as long as the test expression (condition) is true. We generally use this loop when we don't know the number of times to iterate beforehand."
   ]
  },
  {
   "attachments": {},
   "cell_type": "markdown",
   "metadata": {},
   "source": [
    "## Objective\n",
    "\n",
    "After completing this assignment, you will be able to understand:\n",
    "\n",
    "* While loop\n",
    "* How to use While loop in python\n",
    "* How to iterate string using while loop\n",
    "* How to iterate list using while loop\n"
   ]
  },
  {
   "attachments": {},
   "cell_type": "markdown",
   "metadata": {},
   "source": [
    "1. Write a program to print from 1 to 10 using the while loop statement.\n",
    "2. Write a program to print even numbers from N to M using the while loop statement.\n",
    "3. Write a program to print odd numbers from N to M using the while loop statement.\n",
    "4. You are given a string. You have to print each character of the string using the while loop statement.\n",
    "5. You are given a list. You have to print each element of the list using the while loop statement.\n",
    "6. You are given three numbers N,M and K. You have to print from N to M with a step of K using the while loop statement.\n",
    "7. You are given a integer N. Print all the factors of N using the while loop statement.\n",
    "8. Define a function called `main_1` that takes a integer argument N and returns a string in fallowing format.\n",
    "```\n",
    "N = 5\n",
    "Output = \"1,2,3,4,5\"\n",
    "```\n",
    "\n"
   ]
  },
  {
   "attachments": {},
   "cell_type": "markdown",
   "metadata": {},
   "source": [
    "1. Write a program to print from 1 to N using the while loop statement.\n",
    "Example:\n",
    "```\n",
    "input = 5\n",
    "output:\n",
    "1\n",
    "2\n",
    "3\n",
    "4\n",
    "5\n",
    "```"
   ]
  },
  {
   "attachments": {},
   "cell_type": "markdown",
   "metadata": {},
   "source": [
    "You are given a integer N. Print all the factors of N using the while loop statement.\n",
    "\n",
    "Example:\n",
    "```\n",
    "input = 6\n",
    "output: 1,2,3,6\n",
    "```"
   ]
  },
  {
   "cell_type": "code",
   "execution_count": null,
   "metadata": {},
   "outputs": [],
   "source": []
  }
 ],
 "metadata": {
  "language_info": {
   "name": "python"
  },
  "orig_nbformat": 4
 },
 "nbformat": 4,
 "nbformat_minor": 2
}
